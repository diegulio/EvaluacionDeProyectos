{
 "cells": [
  {
   "cell_type": "markdown",
   "metadata": {},
   "source": [
    "# Caso VAN + PROB dadas"
   ]
  },
  {
   "cell_type": "code",
   "execution_count": 1,
   "metadata": {},
   "outputs": [],
   "source": [
    "A = [(-900, 0.04),(-100, 0.1), (0, 0.16), (500, 0.35), (900, 0.15), (1400, 0.1), (2600, 0.09), (3900, 0.01)]\n",
    "B = [(-900, 0.04),(-100, 0.1), (0, 0.16), (500, 0.35), (900, 0.15), (1400, 0.1), (2600, 0.09), (3900, 0.01)]\n"
   ]
  },
  {
   "cell_type": "code",
   "execution_count": 2,
   "metadata": {},
   "outputs": [
    {
     "name": "stdout",
     "output_type": "stream",
     "text": [
      "Ta de pana\n"
     ]
    }
   ],
   "source": [
    "def comprobacion_proyecto(A):\n",
    "    suma_prob = 0\n",
    "    for evento in A:\n",
    "        suma_prob += evento[1]\n",
    "    if suma_prob == 1:\n",
    "        print('Ta de pana')\n",
    "    else:\n",
    "        print('tan malas las probabilidades')\n",
    "\n",
    "comprobacion_proyecto(A)\n",
    "        "
   ]
  },
  {
   "cell_type": "code",
   "execution_count": 3,
   "metadata": {},
   "outputs": [],
   "source": [
    "def van_esperado(proyecto):\n",
    "    van_esp = 0\n",
    "    for evento in proyecto:\n",
    "        van_esp += evento[0]*evento[1]\n",
    "    return van_esp\n",
    "\n",
    "def desv_est(proyecto, van_esperado):\n",
    "    desv_est = 0\n",
    "    for evento in proyecto:\n",
    "        desv_est += ((evento[0] - van_esperado)**2)*evento[1]\n",
    "    return desv_est**(1/2)\n",
    "    "
   ]
  },
  {
   "cell_type": "code",
   "execution_count": 4,
   "metadata": {},
   "outputs": [],
   "source": [
    "ve_a = van_esperado(A)\n",
    "de_a = desv_est(A, ve_a)\n",
    "cv_a = de_a/ve_a"
   ]
  },
  {
   "cell_type": "code",
   "execution_count": 5,
   "metadata": {},
   "outputs": [
    {
     "data": {
      "text/plain": [
       "1.2711437957382083"
      ]
     },
     "execution_count": 5,
     "metadata": {},
     "output_type": "execute_result"
    }
   ],
   "source": [
    "ve_b = van_esperado(B)\n",
    "de_b = desv_est(B, ve_b)\n",
    "cv_b = de_b/ve_b"
   ]
  },
  {
   "cell_type": "markdown",
   "metadata": {},
   "source": [
    "# Caso Flujo + Prob Dadas"
   ]
  },
  {
   "cell_type": "code",
   "execution_count": 2,
   "metadata": {},
   "outputs": [],
   "source": [
    "# Proyecto A\n",
    "\n",
    "Inv = [(-2000, 1), (0, 0)] # Inversion en negativo\n",
    "F1 = [(3600, 0.4),(3800, 0.6)]\n",
    "F2 = [(4000, 0), (4600, 1)]\n",
    "#F3 = [(30, 0.2), (75, 0.7)]\n",
    "ProyectoA = [Inv, F1, F2]\n",
    "\n"
   ]
  },
  {
   "cell_type": "code",
   "execution_count": 3,
   "metadata": {},
   "outputs": [],
   "source": [
    "# Proyecto B\n",
    "\n",
    "Inv = [(-2000, 0), (-2200, 1)] # Inversion en negativo\n",
    "F1 = [(4000, 1),(5000, 0)]\n",
    "F2 = [(4200, 0.5), (4400, 0.5)]\n",
    "#F3 = [(30, 0.2), (75, 0.7)]\n",
    "ProyectoB = [Inv, F1, F2]"
   ]
  },
  {
   "cell_type": "code",
   "execution_count": 4,
   "metadata": {},
   "outputs": [],
   "source": [
    "tmar = 15/100"
   ]
  },
  {
   "cell_type": "code",
   "execution_count": 5,
   "metadata": {},
   "outputs": [],
   "source": [
    "def van_esperado(Proyecto, tmar):\n",
    "    flujos_esperados = []\n",
    "    # Primero calculamos flujos esperados\n",
    "    for flujo in Proyecto:\n",
    "        flujo_esperado = 0\n",
    "        for evento in flujo:\n",
    "            flujo_esperado += evento[0]*evento[1]\n",
    "        flujos_esperados.append(flujo_esperado)\n",
    "        print('Flujo Esperado: ', flujo_esperado)\n",
    "        print('----------')\n",
    "    \n",
    "    # Ahora calculamos el VAN esperado\n",
    "    van_esperado = 0\n",
    "    for i in range(len(Proyecto)):\n",
    "        van_esperado += flujos_esperados[i]/(1+tmar)**i\n",
    "    \n",
    "    print(\"VAN Esperado: \", van_esperado)\n",
    "        \n",
    "    return van_esperado, flujos_esperados\n",
    "        \n",
    "    \n",
    "        \n",
    "        "
   ]
  },
  {
   "cell_type": "code",
   "execution_count": 6,
   "metadata": {},
   "outputs": [
    {
     "name": "stdout",
     "output_type": "stream",
     "text": [
      "Flujo Esperado:  -2000\n",
      "----------\n",
      "Flujo Esperado:  3720.0\n",
      "----------\n",
      "Flujo Esperado:  4600\n",
      "----------\n",
      "VAN Esperado:  4713.04347826087\n"
     ]
    }
   ],
   "source": [
    "ve_a, flujos_esperados_A = van_esperado(ProyectoA, tmar)"
   ]
  },
  {
   "cell_type": "code",
   "execution_count": 7,
   "metadata": {},
   "outputs": [
    {
     "name": "stdout",
     "output_type": "stream",
     "text": [
      "Flujo Esperado:  -2200\n",
      "----------\n",
      "Flujo Esperado:  4000\n",
      "----------\n",
      "Flujo Esperado:  4300.0\n",
      "----------\n",
      "VAN Esperado:  4529.678638941399\n"
     ]
    }
   ],
   "source": [
    "ve_b, flujos_esperados_B = van_esperado(ProyectoB, tmar)"
   ]
  },
  {
   "cell_type": "code",
   "execution_count": 8,
   "metadata": {},
   "outputs": [],
   "source": [
    "def desv_estandar(proyecto, flujos_esperados, tmar):\n",
    "    desv_esperadas = []\n",
    "    for i,flujo in enumerate(proyecto):\n",
    "        desv_esperada = 0\n",
    "        for evento in flujo:\n",
    "            desv_esperada += ((evento[0] - flujos_esperados[i])**2)*evento[1]\n",
    "        desv_esperadas.append(desv_esperada)\n",
    "        print('Var Esperada: ', desv_esperada)\n",
    "        print('----------')\n",
    "    \n",
    "    #Ahora se calcula la desviacion total\n",
    "    desv_total = 0\n",
    "    for i in range(len(desv_esperadas)):\n",
    "        desv_total += desv_esperadas[i]/(1 + tmar)**(2*i)\n",
    "    print('Desv Total : ', desv_total**0.5)\n",
    "    \n",
    "    return desv_total**0.5, desv_esperadas\n",
    "    "
   ]
  },
  {
   "cell_type": "code",
   "execution_count": 9,
   "metadata": {
    "scrolled": true
   },
   "outputs": [
    {
     "name": "stdout",
     "output_type": "stream",
     "text": [
      "Var Esperada:  0\n",
      "----------\n",
      "Var Esperada:  9600.0\n",
      "----------\n",
      "Var Esperada:  0\n",
      "----------\n",
      "Desv Total :  85.19964322724098\n",
      "Coef Var:  0.018077415075890613\n"
     ]
    }
   ],
   "source": [
    "de_a, desv_esperadasA = desv_estandar(ProyectoA, flujos_esperados_A, tmar)\n",
    "cv_a = de_a / ve_a\n",
    "print('Coef Var: ', cv_a)"
   ]
  },
  {
   "cell_type": "code",
   "execution_count": 10,
   "metadata": {},
   "outputs": [
    {
     "name": "stdout",
     "output_type": "stream",
     "text": [
      "Var Esperada:  0\n",
      "----------\n",
      "Var Esperada:  0\n",
      "----------\n",
      "Var Esperada:  10000.0\n",
      "----------\n",
      "Desv Total :  75.61436672967865\n",
      "Coef Var:  0.016693097404223357\n"
     ]
    }
   ],
   "source": [
    "de_b, desv_esperadasB = desv_estandar(ProyectoB, flujos_esperados_B, tmar)\n",
    "cv_b = de_b / ve_b\n",
    "print('Coef Var: ', cv_b)"
   ]
  },
  {
   "cell_type": "markdown",
   "metadata": {},
   "source": [
    "# Comparacion\n",
    "    "
   ]
  },
  {
   "cell_type": "code",
   "execution_count": 12,
   "metadata": {},
   "outputs": [
    {
     "name": "stdout",
     "output_type": "stream",
     "text": [
      "Si se es neutral al riesgo y ambos proyectos son independientes se hacen Ambos proyectos\n",
      "Si se es neutral al riesgo y ambos proyectos son excluentes se hace A\n",
      "Si se es adverso al riesgo se escoge B ya que tiene menor CV\n"
     ]
    }
   ],
   "source": [
    "def comparacion(ve_a, de_a, ve_b, de_b):\n",
    "    cv_a = de_a / ve_a\n",
    "    cv_b = de_b / ve_b\n",
    "    if ve_a >= 0 and ve_b >= 0:\n",
    "        print(\"Si se es neutral al riesgo y ambos proyectos son independientes se hacen Ambos proyectos\")\n",
    "    elif ve_a >= 0 or ve_b >=0:\n",
    "        print(\"Si se es neutral al riesgo y ambos proyectos independientes solo se hace aquel mayor o igual a 0\")\n",
    "    \n",
    "    if ve_a > ve_b:\n",
    "        print(\"Si se es neutral al riesgo y ambos proyectos son excluentes se hace A\")\n",
    "        \n",
    "    elif ve_a < ve_b:\n",
    "        print(\"Si se es neutral al riesgo y ambos proyectos son excluentes se hace B\")\n",
    "    else: \n",
    "        print(\"Si se es neutral al riesgo y ambos proyectos son excluentes se hace A o B, uno pero no ambos\")\n",
    "    \n",
    "    if cv_a > cv_b :\n",
    "        print(\"Si se es adverso al riesgo se escoge B ya que tiene menor CV\")\n",
    "    elif cv_a < cv_b :\n",
    "        print(\"Si se es adverso al riesgo se escoge A ya que tiene menos CV\")\n",
    "    else:\n",
    "        print(\"Si se es adverso al riesgo se escoge cualquiera ya que tienen mismo CV\")\n",
    "        \n",
    "comparacion(ve_a, de_a, ve_b, de_b)\n",
    "        "
   ]
  },
  {
   "cell_type": "markdown",
   "metadata": {},
   "source": [
    "# Distribucion Triangular"
   ]
  },
  {
   "cell_type": "code",
   "execution_count": 70,
   "metadata": {},
   "outputs": [],
   "source": [
    "import pandas as pd\n",
    "import numpy as np\n",
    "\n",
    "Pesimista = [-400,200, 220, 220, 200, 250]\n",
    "Medio = [-370, 230, 250, 260, 270, 300]\n",
    "Optimista = [-310,290,280,270,310,320]\n",
    "\n",
    "tmar = 20/100"
   ]
  },
  {
   "cell_type": "code",
   "execution_count": 71,
   "metadata": {},
   "outputs": [
    {
     "data": {
      "text/html": [
       "<div>\n",
       "<style scoped>\n",
       "    .dataframe tbody tr th:only-of-type {\n",
       "        vertical-align: middle;\n",
       "    }\n",
       "\n",
       "    .dataframe tbody tr th {\n",
       "        vertical-align: top;\n",
       "    }\n",
       "\n",
       "    .dataframe thead th {\n",
       "        text-align: right;\n",
       "    }\n",
       "</style>\n",
       "<table border=\"1\" class=\"dataframe\">\n",
       "  <thead>\n",
       "    <tr style=\"text-align: right;\">\n",
       "      <th></th>\n",
       "      <th>Pesimista</th>\n",
       "      <th>Mas Probable</th>\n",
       "      <th>Optimista</th>\n",
       "    </tr>\n",
       "  </thead>\n",
       "  <tbody>\n",
       "    <tr>\n",
       "      <th>0</th>\n",
       "      <td>-400</td>\n",
       "      <td>-370</td>\n",
       "      <td>-310</td>\n",
       "    </tr>\n",
       "    <tr>\n",
       "      <th>1</th>\n",
       "      <td>200</td>\n",
       "      <td>230</td>\n",
       "      <td>290</td>\n",
       "    </tr>\n",
       "    <tr>\n",
       "      <th>2</th>\n",
       "      <td>220</td>\n",
       "      <td>250</td>\n",
       "      <td>280</td>\n",
       "    </tr>\n",
       "    <tr>\n",
       "      <th>3</th>\n",
       "      <td>220</td>\n",
       "      <td>260</td>\n",
       "      <td>270</td>\n",
       "    </tr>\n",
       "    <tr>\n",
       "      <th>4</th>\n",
       "      <td>200</td>\n",
       "      <td>270</td>\n",
       "      <td>310</td>\n",
       "    </tr>\n",
       "    <tr>\n",
       "      <th>5</th>\n",
       "      <td>250</td>\n",
       "      <td>300</td>\n",
       "      <td>320</td>\n",
       "    </tr>\n",
       "  </tbody>\n",
       "</table>\n",
       "</div>"
      ],
      "text/plain": [
       "   Pesimista  Mas Probable  Optimista\n",
       "0       -400          -370       -310\n",
       "1        200           230        290\n",
       "2        220           250        280\n",
       "3        220           260        270\n",
       "4        200           270        310\n",
       "5        250           300        320"
      ]
     },
     "execution_count": 71,
     "metadata": {},
     "output_type": "execute_result"
    }
   ],
   "source": [
    "dist = pd.DataFrame({\n",
    "    'Pesimista': Pesimista,\n",
    "    'Mas Probable': Medio,\n",
    "    'Optimista': Optimista\n",
    "})\n",
    "dist"
   ]
  },
  {
   "cell_type": "code",
   "execution_count": 72,
   "metadata": {},
   "outputs": [
    {
     "data": {
      "text/html": [
       "<div>\n",
       "<style scoped>\n",
       "    .dataframe tbody tr th:only-of-type {\n",
       "        vertical-align: middle;\n",
       "    }\n",
       "\n",
       "    .dataframe tbody tr th {\n",
       "        vertical-align: top;\n",
       "    }\n",
       "\n",
       "    .dataframe thead th {\n",
       "        text-align: right;\n",
       "    }\n",
       "</style>\n",
       "<table border=\"1\" class=\"dataframe\">\n",
       "  <thead>\n",
       "    <tr style=\"text-align: right;\">\n",
       "      <th></th>\n",
       "      <th>Pesimista</th>\n",
       "      <th>Mas Probable</th>\n",
       "      <th>Optimista</th>\n",
       "      <th>Valor Esperado</th>\n",
       "    </tr>\n",
       "  </thead>\n",
       "  <tbody>\n",
       "    <tr>\n",
       "      <th>0</th>\n",
       "      <td>-400</td>\n",
       "      <td>-370</td>\n",
       "      <td>-310</td>\n",
       "      <td>-360.0</td>\n",
       "    </tr>\n",
       "    <tr>\n",
       "      <th>1</th>\n",
       "      <td>200</td>\n",
       "      <td>230</td>\n",
       "      <td>290</td>\n",
       "      <td>240.0</td>\n",
       "    </tr>\n",
       "    <tr>\n",
       "      <th>2</th>\n",
       "      <td>220</td>\n",
       "      <td>250</td>\n",
       "      <td>280</td>\n",
       "      <td>250.0</td>\n",
       "    </tr>\n",
       "    <tr>\n",
       "      <th>3</th>\n",
       "      <td>220</td>\n",
       "      <td>260</td>\n",
       "      <td>270</td>\n",
       "      <td>250.0</td>\n",
       "    </tr>\n",
       "    <tr>\n",
       "      <th>4</th>\n",
       "      <td>200</td>\n",
       "      <td>270</td>\n",
       "      <td>310</td>\n",
       "      <td>260.0</td>\n",
       "    </tr>\n",
       "    <tr>\n",
       "      <th>5</th>\n",
       "      <td>250</td>\n",
       "      <td>300</td>\n",
       "      <td>320</td>\n",
       "      <td>290.0</td>\n",
       "    </tr>\n",
       "  </tbody>\n",
       "</table>\n",
       "</div>"
      ],
      "text/plain": [
       "   Pesimista  Mas Probable  Optimista  Valor Esperado\n",
       "0       -400          -370       -310          -360.0\n",
       "1        200           230        290           240.0\n",
       "2        220           250        280           250.0\n",
       "3        220           260        270           250.0\n",
       "4        200           270        310           260.0\n",
       "5        250           300        320           290.0"
      ]
     },
     "execution_count": 72,
     "metadata": {},
     "output_type": "execute_result"
    }
   ],
   "source": [
    "dist['Valor Esperado'] = dist.mean(axis = 1)\n",
    "dist"
   ]
  },
  {
   "cell_type": "code",
   "execution_count": 73,
   "metadata": {},
   "outputs": [],
   "source": [
    "dist['Varianza'] = (1/18)*(np.power(dist['Pesimista'],2) + np.power(dist['Mas Probable'],2) + np.power(dist['Optimista'],2) - dist['Pesimista']*dist['Mas Probable'] - dist['Pesimista']*dist['Optimista'] - dist['Mas Probable']*dist['Optimista'] )"
   ]
  },
  {
   "cell_type": "code",
   "execution_count": 74,
   "metadata": {},
   "outputs": [
    {
     "data": {
      "text/html": [
       "<div>\n",
       "<style scoped>\n",
       "    .dataframe tbody tr th:only-of-type {\n",
       "        vertical-align: middle;\n",
       "    }\n",
       "\n",
       "    .dataframe tbody tr th {\n",
       "        vertical-align: top;\n",
       "    }\n",
       "\n",
       "    .dataframe thead th {\n",
       "        text-align: right;\n",
       "    }\n",
       "</style>\n",
       "<table border=\"1\" class=\"dataframe\">\n",
       "  <thead>\n",
       "    <tr style=\"text-align: right;\">\n",
       "      <th></th>\n",
       "      <th>Pesimista</th>\n",
       "      <th>Mas Probable</th>\n",
       "      <th>Optimista</th>\n",
       "      <th>Valor Esperado</th>\n",
       "      <th>Varianza</th>\n",
       "    </tr>\n",
       "  </thead>\n",
       "  <tbody>\n",
       "    <tr>\n",
       "      <th>0</th>\n",
       "      <td>-400</td>\n",
       "      <td>-370</td>\n",
       "      <td>-310</td>\n",
       "      <td>-360.0</td>\n",
       "      <td>350.000000</td>\n",
       "    </tr>\n",
       "    <tr>\n",
       "      <th>1</th>\n",
       "      <td>200</td>\n",
       "      <td>230</td>\n",
       "      <td>290</td>\n",
       "      <td>240.0</td>\n",
       "      <td>350.000000</td>\n",
       "    </tr>\n",
       "    <tr>\n",
       "      <th>2</th>\n",
       "      <td>220</td>\n",
       "      <td>250</td>\n",
       "      <td>280</td>\n",
       "      <td>250.0</td>\n",
       "      <td>150.000000</td>\n",
       "    </tr>\n",
       "    <tr>\n",
       "      <th>3</th>\n",
       "      <td>220</td>\n",
       "      <td>260</td>\n",
       "      <td>270</td>\n",
       "      <td>250.0</td>\n",
       "      <td>116.666667</td>\n",
       "    </tr>\n",
       "    <tr>\n",
       "      <th>4</th>\n",
       "      <td>200</td>\n",
       "      <td>270</td>\n",
       "      <td>310</td>\n",
       "      <td>260.0</td>\n",
       "      <td>516.666667</td>\n",
       "    </tr>\n",
       "    <tr>\n",
       "      <th>5</th>\n",
       "      <td>250</td>\n",
       "      <td>300</td>\n",
       "      <td>320</td>\n",
       "      <td>290.0</td>\n",
       "      <td>216.666667</td>\n",
       "    </tr>\n",
       "  </tbody>\n",
       "</table>\n",
       "</div>"
      ],
      "text/plain": [
       "   Pesimista  Mas Probable  Optimista  Valor Esperado    Varianza\n",
       "0       -400          -370       -310          -360.0  350.000000\n",
       "1        200           230        290           240.0  350.000000\n",
       "2        220           250        280           250.0  150.000000\n",
       "3        220           260        270           250.0  116.666667\n",
       "4        200           270        310           260.0  516.666667\n",
       "5        250           300        320           290.0  216.666667"
      ]
     },
     "execution_count": 74,
     "metadata": {},
     "output_type": "execute_result"
    }
   ],
   "source": [
    "dist"
   ]
  },
  {
   "cell_type": "code",
   "execution_count": 75,
   "metadata": {},
   "outputs": [],
   "source": [
    "flujos_esperados = dist['Valor Esperado'].to_numpy()\n",
    "varianzas = dist['Varianza'].to_numpy()"
   ]
  },
  {
   "cell_type": "code",
   "execution_count": 76,
   "metadata": {},
   "outputs": [
    {
     "data": {
      "text/plain": [
       "400.2173353909466"
      ]
     },
     "execution_count": 76,
     "metadata": {},
     "output_type": "execute_result"
    }
   ],
   "source": [
    "def calcular_van(flujos, tmar):\n",
    "    van = 0\n",
    "    for i,flujo in enumerate(flujos):\n",
    "        van += flujo/(1 + tmar)**i\n",
    "    return van\n",
    "\n",
    "calcular_van(flujos_esperados, tmar)\n",
    "        \n"
   ]
  },
  {
   "cell_type": "code",
   "execution_count": 77,
   "metadata": {},
   "outputs": [
    {
     "data": {
      "text/plain": [
       "29.31924247135446"
      ]
     },
     "execution_count": 77,
     "metadata": {},
     "output_type": "execute_result"
    }
   ],
   "source": [
    "def calcular_desv(varianzas):\n",
    "    var = 0\n",
    "    for i,varianza in enumerate(varianzas):\n",
    "        var += varianza/(1+tmar)**(2*i)\n",
    "    return var**0.5\n",
    "calcular_desv(varianzas)"
   ]
  },
  {
   "cell_type": "markdown",
   "metadata": {},
   "source": [
    "# Distribucion Normal"
   ]
  },
  {
   "cell_type": "code",
   "execution_count": 93,
   "metadata": {},
   "outputs": [
    {
     "name": "stdout",
     "output_type": "stream",
     "text": [
      "Con Z :  0.6747331425217251\n",
      "Probabildad VAN <  420 :  75.00773380300001\n",
      "Probabildad VAN >  420 :  24.992266196999992\n"
     ]
    }
   ],
   "source": [
    "# Cuando los flujos se comportan con distribucion Normal\n",
    "# Solo se necesita el Vanesperado y la desviacion total del proyecto\n",
    "import scipy.stats\n",
    "X = 420\n",
    "MU =  calcular_van(flujos_esperados, tmar)# VAN esperado\n",
    "STD = calcular_desv(varianzas) # Desv Total\n",
    "\n",
    "print(\"Con Z : \", (X-MU)/STD)\n",
    "print(\"Probabildad VAN < \",X,\": \", scipy.stats.norm(MU, STD).cdf(X)*100)\n",
    "print(\"Probabildad VAN > \",X,\": \", (1 - scipy.stats.norm(MU, STD).cdf(X))*100)\n"
   ]
  },
  {
   "cell_type": "code",
   "execution_count": 94,
   "metadata": {},
   "outputs": [
    {
     "data": {
      "text/plain": [
       "40.122"
      ]
     },
     "execution_count": 94,
     "metadata": {},
     "output_type": "execute_result"
    }
   ],
   "source": [
    "15.13 +  24.992"
   ]
  },
  {
   "cell_type": "code",
   "execution_count": null,
   "metadata": {},
   "outputs": [],
   "source": []
  }
 ],
 "metadata": {
  "kernelspec": {
   "display_name": "Python 3",
   "language": "python",
   "name": "python3"
  },
  "language_info": {
   "codemirror_mode": {
    "name": "ipython",
    "version": 3
   },
   "file_extension": ".py",
   "mimetype": "text/x-python",
   "name": "python",
   "nbconvert_exporter": "python",
   "pygments_lexer": "ipython3",
   "version": "3.7.4"
  }
 },
 "nbformat": 4,
 "nbformat_minor": 2
}
