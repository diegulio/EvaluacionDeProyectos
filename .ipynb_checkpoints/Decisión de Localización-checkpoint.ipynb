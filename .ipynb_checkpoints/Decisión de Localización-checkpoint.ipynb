{
 "cells": [
  {
   "cell_type": "code",
   "execution_count": 10,
   "metadata": {},
   "outputs": [],
   "source": [
    "# Cotos\n",
    "A = [100000, 80000, 1200000, 6, 10]\n",
    "B = [50000, 120000, 900000, 6, 6]\n",
    "C = [70000, 20000, 500000, 8, 4]\n",
    "\n",
    "#Puntajes, poner negativos aquellos que no son costos\n",
    "ptjes = [2, 2, -1, -6, -7]"
   ]
  },
  {
   "cell_type": "code",
   "execution_count": 21,
   "metadata": {},
   "outputs": [],
   "source": [
    "# Comparacion de 2\n",
    "def comparacion(locacion1, locacion2, puntajes):\n",
    "    n = len(locacion1)\n",
    "    mult = 1\n",
    "    for i in range(n):\n",
    "        mult *= (locacion1[i]/locacion2[i])**puntajes[i]\n",
    "    if mult < 1:\n",
    "        resultado = \"Primera locacion es mejor que Segunda locacion\"\n",
    "    elif mult > 1: \n",
    "        resultado = \"Segunda locacion es mejor que primera locacion\"\n",
    "    elif mult == 1:\n",
    "        resultado = \"indiferente\"\n",
    "    \n",
    "    return mult,resultado\n",
    "        \n"
   ]
  },
  {
   "cell_type": "code",
   "execution_count": 22,
   "metadata": {},
   "outputs": [
    {
     "name": "stdout",
     "output_type": "stream",
     "text": [
      "Primera locacion es mejor que Segunda locacion con total :  0.037324799999999984\n"
     ]
    }
   ],
   "source": [
    "# Ej 3 locaciones A, B y C\n",
    "comp_ab = comparacion(A, B, ptjes)\n",
    "print(comp_ab[1] + \" con total : \", comp_ab[0] )"
   ]
  },
  {
   "cell_type": "markdown",
   "metadata": {},
   "source": [
    "Ganó A, entonces suelto B y veo cual es mejor entre A y C"
   ]
  },
  {
   "cell_type": "code",
   "execution_count": 25,
   "metadata": {},
   "outputs": [
    {
     "name": "stdout",
     "output_type": "stream",
     "text": [
      "Primera locacion es mejor que Segunda locacion con total :  0.1252463331560333\n"
     ]
    }
   ],
   "source": [
    "comp_ac = comparacion(A, C, ptjes)\n",
    "print(comp_ac[1] + \" con total : \", comp_ac[0] )"
   ]
  },
  {
   "cell_type": "markdown",
   "metadata": {},
   "source": [
    "Igual para ordenar veré que es mejor enter B y C"
   ]
  },
  {
   "cell_type": "code",
   "execution_count": 26,
   "metadata": {},
   "outputs": [
    {
     "name": "stdout",
     "output_type": "stream",
     "text": [
      "Segunda locacion es mejor que primera locacion con total :  3.3555794848474294\n"
     ]
    }
   ],
   "source": [
    "comp_bc = comparacion(B, C, ptjes)\n",
    "print(comp_bc[1] + \" con total : \", comp_bc[0] )"
   ]
  },
  {
   "cell_type": "markdown",
   "metadata": {},
   "source": [
    "Por tanto el orden de preferencia es A,C,B"
   ]
  },
  {
   "cell_type": "code",
   "execution_count": null,
   "metadata": {},
   "outputs": [],
   "source": []
  }
 ],
 "metadata": {
  "kernelspec": {
   "display_name": "Python 3",
   "language": "python",
   "name": "python3"
  },
  "language_info": {
   "codemirror_mode": {
    "name": "ipython",
    "version": 3
   },
   "file_extension": ".py",
   "mimetype": "text/x-python",
   "name": "python",
   "nbconvert_exporter": "python",
   "pygments_lexer": "ipython3",
   "version": "3.7.4"
  }
 },
 "nbformat": 4,
 "nbformat_minor": 2
}
