{
 "cells": [
  {
   "cell_type": "markdown",
   "metadata": {},
   "source": [
    "# Caso VAN + PROB dadas"
   ]
  },
  {
   "cell_type": "code",
   "execution_count": 2,
   "metadata": {},
   "outputs": [],
   "source": [
    "A = [(-900, 0.04),(-100, 0.1), (0, 0.16), (500, 0.35), (900, 0.15), (1400, 0.1), (2600, 0.09), (3900, 0.01)]\n"
   ]
  },
  {
   "cell_type": "code",
   "execution_count": 3,
   "metadata": {},
   "outputs": [
    {
     "name": "stdout",
     "output_type": "stream",
     "text": [
      "Ta de pana\n"
     ]
    }
   ],
   "source": [
    "def comprobacion_proyecto(A):\n",
    "    suma_prob = 0\n",
    "    for evento in A:\n",
    "        suma_prob += evento[1]\n",
    "    if suma_prob == 1:\n",
    "        print('Ta de pana')\n",
    "    else:\n",
    "        print('tan malas las probabilidades')\n",
    "\n",
    "comprobacion_proyecto(A)\n",
    "        "
   ]
  },
  {
   "cell_type": "code",
   "execution_count": 7,
   "metadata": {},
   "outputs": [],
   "source": [
    "def van_esperado(proyecto):\n",
    "    van_esp = 0\n",
    "    for evento in proyecto:\n",
    "        van_esp += evento[0]*evento[1]\n",
    "    return van_esp\n",
    "\n",
    "def desv_est(proyecto, van_esperado):\n",
    "    desv_est = 0\n",
    "    for evento in proyecto:\n",
    "        desv_est += ((evento[0] - van_esperado)**2)*evento[1]\n",
    "    return desv_est**(1/2)\n",
    "    "
   ]
  },
  {
   "cell_type": "code",
   "execution_count": 10,
   "metadata": {},
   "outputs": [],
   "source": [
    "ve_a = van_esperado(A)\n",
    "de_a = desv_est(A, ve_a)\n",
    "cv_a = de_a/ve_a"
   ]
  },
  {
   "cell_type": "code",
   "execution_count": 11,
   "metadata": {},
   "outputs": [
    {
     "data": {
      "text/plain": [
       "1.2711437957382083"
      ]
     },
     "execution_count": 11,
     "metadata": {},
     "output_type": "execute_result"
    }
   ],
   "source": [
    "cv_a"
   ]
  },
  {
   "cell_type": "markdown",
   "metadata": {},
   "source": [
    "# Caso Flujo + Prob Dadas"
   ]
  },
  {
   "cell_type": "code",
   "execution_count": 71,
   "metadata": {},
   "outputs": [],
   "source": [
    "Inv = [(-80, 0.5), (-60, 0.4),(-100, 0.1)] # Inversion en negativo\n",
    "F1 = [(30, 0.4),(40, 0.2),(45, 0.4)]\n",
    "F2 = [(50, 0.3), (55, 0.35), (60, 0.35)]\n",
    "F3 = [(30, 0.2), (75, 0.7), (105, 0.1)]\n",
    "ProyectoA = [Inv, F1, F2, F3]\n",
    "tmar = 16/100\n"
   ]
  },
  {
   "cell_type": "code",
   "execution_count": 72,
   "metadata": {},
   "outputs": [],
   "source": [
    "def van_esperado(Proyecto, tmar):\n",
    "    flujos_esperados = []\n",
    "    # Primero calculamos flujos esperados\n",
    "    for flujo in Proyecto:\n",
    "        flujo_esperado = 0\n",
    "        for evento in flujo:\n",
    "            flujo_esperado += evento[0]*evento[1]\n",
    "        flujos_esperados.append(flujo_esperado)\n",
    "        print('Flujo Esperado: ', flujo_esperado)\n",
    "        print('----------')\n",
    "    \n",
    "    # Ahora calculamos el VAN esperado\n",
    "    van_esperado = 0\n",
    "    for i in range(len(Proyecto)):\n",
    "        van_esperado += flujos_esperados[i]/(1+tmar)**i\n",
    "    \n",
    "    print(\"VAN Esperado: \", van_esperado)\n",
    "        \n",
    "    return van_esperado, flujos_esperados\n",
    "        \n",
    "    \n",
    "        \n",
    "        "
   ]
  },
  {
   "cell_type": "code",
   "execution_count": 73,
   "metadata": {},
   "outputs": [
    {
     "name": "stdout",
     "output_type": "stream",
     "text": [
      "Flujo Esperado:  -74.0\n",
      "----------\n",
      "Flujo Esperado:  38.0\n",
      "----------\n",
      "Flujo Esperado:  55.25\n",
      "----------\n",
      "Flujo Esperado:  69.0\n",
      "----------\n",
      "VAN Esperado:  44.023750461273536\n"
     ]
    }
   ],
   "source": [
    "van_A, flujos_esperados_A = van_esperado(ProyectoA, tmar)"
   ]
  },
  {
   "cell_type": "code",
   "execution_count": 74,
   "metadata": {},
   "outputs": [],
   "source": [
    "def desv_estandar(proyecto, flujos_esperados, tmar):\n",
    "    desv_esperadas = []\n",
    "    for i,flujo in enumerate(proyecto):\n",
    "        desv_esperada = 0\n",
    "        for evento in flujo:\n",
    "            desv_esperada += ((evento[0] - flujos_esperados[i])**2)*evento[1]\n",
    "        desv_esperadas.append(desv_esperada)\n",
    "        print('Desv Esperada: ', desv_esperada)\n",
    "        print('----------')\n",
    "    \n",
    "    #Ahora se calcula la desviacion total\n",
    "    desv_total = 0\n",
    "    for i in range(len(desv_esperadas)):\n",
    "        desv_total += desv_esperadas[i]/(1 + tmar)**(2*i)\n",
    "    print('Desv Total : ', desv_total**0.5)\n",
    "    \n",
    "    return desv_total**0.5, desv_esperadas\n",
    "    "
   ]
  },
  {
   "cell_type": "code",
   "execution_count": 76,
   "metadata": {},
   "outputs": [
    {
     "name": "stdout",
     "output_type": "stream",
     "text": [
      "Desv Esperada:  164.0\n",
      "----------\n",
      "Desv Esperada:  46.0\n",
      "----------\n",
      "Desv Esperada:  16.1875\n",
      "----------\n",
      "Desv Esperada:  459.0\n",
      "----------\n",
      "Desv Total :  19.88765196043642\n",
      "Coef Var:  0.45174824389237417\n"
     ]
    }
   ],
   "source": [
    "desv_totalA, desv_esperadasA = desv_estandar(ProyectoA, flujos_esperados_A, tmar)\n",
    "cv_A = desv_totalA / van_A\n",
    "print('Coef Var: ', cv_A)"
   ]
  },
  {
   "cell_type": "markdown",
   "metadata": {},
   "source": [
    "# Distribucion Triangular"
   ]
  },
  {
   "cell_type": "code",
   "execution_count": 106,
   "metadata": {},
   "outputs": [],
   "source": [
    "import pandas as pd\n",
    "import numpy as np\n",
    "\n",
    "Pesimista = [-141, 30, 35, 45, 28, 25]\n",
    "Medio = [-100, 40, 40, 50, 38, 35]\n",
    "Optimista = [-80, 59, 45, 61, 48, 54]\n",
    "\n",
    "tmar = 20/100"
   ]
  },
  {
   "cell_type": "code",
   "execution_count": 96,
   "metadata": {},
   "outputs": [
    {
     "data": {
      "text/html": [
       "<div>\n",
       "<style scoped>\n",
       "    .dataframe tbody tr th:only-of-type {\n",
       "        vertical-align: middle;\n",
       "    }\n",
       "\n",
       "    .dataframe tbody tr th {\n",
       "        vertical-align: top;\n",
       "    }\n",
       "\n",
       "    .dataframe thead th {\n",
       "        text-align: right;\n",
       "    }\n",
       "</style>\n",
       "<table border=\"1\" class=\"dataframe\">\n",
       "  <thead>\n",
       "    <tr style=\"text-align: right;\">\n",
       "      <th></th>\n",
       "      <th>Pesimista</th>\n",
       "      <th>Mas Probable</th>\n",
       "      <th>Optimista</th>\n",
       "    </tr>\n",
       "  </thead>\n",
       "  <tbody>\n",
       "    <tr>\n",
       "      <th>0</th>\n",
       "      <td>-141</td>\n",
       "      <td>-100</td>\n",
       "      <td>-80</td>\n",
       "    </tr>\n",
       "    <tr>\n",
       "      <th>1</th>\n",
       "      <td>30</td>\n",
       "      <td>40</td>\n",
       "      <td>59</td>\n",
       "    </tr>\n",
       "    <tr>\n",
       "      <th>2</th>\n",
       "      <td>35</td>\n",
       "      <td>40</td>\n",
       "      <td>45</td>\n",
       "    </tr>\n",
       "    <tr>\n",
       "      <th>3</th>\n",
       "      <td>45</td>\n",
       "      <td>50</td>\n",
       "      <td>61</td>\n",
       "    </tr>\n",
       "    <tr>\n",
       "      <th>4</th>\n",
       "      <td>28</td>\n",
       "      <td>38</td>\n",
       "      <td>48</td>\n",
       "    </tr>\n",
       "    <tr>\n",
       "      <th>5</th>\n",
       "      <td>25</td>\n",
       "      <td>35</td>\n",
       "      <td>54</td>\n",
       "    </tr>\n",
       "  </tbody>\n",
       "</table>\n",
       "</div>"
      ],
      "text/plain": [
       "   Pesimista  Mas Probable  Optimista\n",
       "0       -141          -100        -80\n",
       "1         30            40         59\n",
       "2         35            40         45\n",
       "3         45            50         61\n",
       "4         28            38         48\n",
       "5         25            35         54"
      ]
     },
     "execution_count": 96,
     "metadata": {},
     "output_type": "execute_result"
    }
   ],
   "source": [
    "dist = pd.DataFrame({\n",
    "    'Pesimista': Pesimista,\n",
    "    'Mas Probable': Medio,\n",
    "    'Optimista': Optimista\n",
    "})\n",
    "dist"
   ]
  },
  {
   "cell_type": "code",
   "execution_count": 98,
   "metadata": {},
   "outputs": [
    {
     "data": {
      "text/html": [
       "<div>\n",
       "<style scoped>\n",
       "    .dataframe tbody tr th:only-of-type {\n",
       "        vertical-align: middle;\n",
       "    }\n",
       "\n",
       "    .dataframe tbody tr th {\n",
       "        vertical-align: top;\n",
       "    }\n",
       "\n",
       "    .dataframe thead th {\n",
       "        text-align: right;\n",
       "    }\n",
       "</style>\n",
       "<table border=\"1\" class=\"dataframe\">\n",
       "  <thead>\n",
       "    <tr style=\"text-align: right;\">\n",
       "      <th></th>\n",
       "      <th>Pesimista</th>\n",
       "      <th>Mas Probable</th>\n",
       "      <th>Optimista</th>\n",
       "      <th>Valor Esperado</th>\n",
       "    </tr>\n",
       "  </thead>\n",
       "  <tbody>\n",
       "    <tr>\n",
       "      <th>0</th>\n",
       "      <td>-141</td>\n",
       "      <td>-100</td>\n",
       "      <td>-80</td>\n",
       "      <td>-107.0</td>\n",
       "    </tr>\n",
       "    <tr>\n",
       "      <th>1</th>\n",
       "      <td>30</td>\n",
       "      <td>40</td>\n",
       "      <td>59</td>\n",
       "      <td>43.0</td>\n",
       "    </tr>\n",
       "    <tr>\n",
       "      <th>2</th>\n",
       "      <td>35</td>\n",
       "      <td>40</td>\n",
       "      <td>45</td>\n",
       "      <td>40.0</td>\n",
       "    </tr>\n",
       "    <tr>\n",
       "      <th>3</th>\n",
       "      <td>45</td>\n",
       "      <td>50</td>\n",
       "      <td>61</td>\n",
       "      <td>52.0</td>\n",
       "    </tr>\n",
       "    <tr>\n",
       "      <th>4</th>\n",
       "      <td>28</td>\n",
       "      <td>38</td>\n",
       "      <td>48</td>\n",
       "      <td>38.0</td>\n",
       "    </tr>\n",
       "    <tr>\n",
       "      <th>5</th>\n",
       "      <td>25</td>\n",
       "      <td>35</td>\n",
       "      <td>54</td>\n",
       "      <td>38.0</td>\n",
       "    </tr>\n",
       "  </tbody>\n",
       "</table>\n",
       "</div>"
      ],
      "text/plain": [
       "   Pesimista  Mas Probable  Optimista  Valor Esperado\n",
       "0       -141          -100        -80          -107.0\n",
       "1         30            40         59            43.0\n",
       "2         35            40         45            40.0\n",
       "3         45            50         61            52.0\n",
       "4         28            38         48            38.0\n",
       "5         25            35         54            38.0"
      ]
     },
     "execution_count": 98,
     "metadata": {},
     "output_type": "execute_result"
    }
   ],
   "source": [
    "dist['Valor Esperado'] = dist.mean(axis = 1)\n",
    "dist"
   ]
  },
  {
   "cell_type": "code",
   "execution_count": 99,
   "metadata": {},
   "outputs": [],
   "source": [
    "dist['Varianza'] = (1/18)*(np.power(dist['Pesimista'],2) + np.power(dist['Mas Probable'],2) + np.power(dist['Optimista'],2) - dist['Pesimista']*dist['Mas Probable'] - dist['Pesimista']*dist['Optimista'] - dist['Mas Probable']*dist['Optimista'] )"
   ]
  },
  {
   "cell_type": "code",
   "execution_count": 100,
   "metadata": {},
   "outputs": [
    {
     "data": {
      "text/html": [
       "<div>\n",
       "<style scoped>\n",
       "    .dataframe tbody tr th:only-of-type {\n",
       "        vertical-align: middle;\n",
       "    }\n",
       "\n",
       "    .dataframe tbody tr th {\n",
       "        vertical-align: top;\n",
       "    }\n",
       "\n",
       "    .dataframe thead th {\n",
       "        text-align: right;\n",
       "    }\n",
       "</style>\n",
       "<table border=\"1\" class=\"dataframe\">\n",
       "  <thead>\n",
       "    <tr style=\"text-align: right;\">\n",
       "      <th></th>\n",
       "      <th>Pesimista</th>\n",
       "      <th>Mas Probable</th>\n",
       "      <th>Optimista</th>\n",
       "      <th>Valor Esperado</th>\n",
       "      <th>Varianza</th>\n",
       "    </tr>\n",
       "  </thead>\n",
       "  <tbody>\n",
       "    <tr>\n",
       "      <th>0</th>\n",
       "      <td>-141</td>\n",
       "      <td>-100</td>\n",
       "      <td>-80</td>\n",
       "      <td>-107.0</td>\n",
       "      <td>161.166667</td>\n",
       "    </tr>\n",
       "    <tr>\n",
       "      <th>1</th>\n",
       "      <td>30</td>\n",
       "      <td>40</td>\n",
       "      <td>59</td>\n",
       "      <td>43.0</td>\n",
       "      <td>36.166667</td>\n",
       "    </tr>\n",
       "    <tr>\n",
       "      <th>2</th>\n",
       "      <td>35</td>\n",
       "      <td>40</td>\n",
       "      <td>45</td>\n",
       "      <td>40.0</td>\n",
       "      <td>4.166667</td>\n",
       "    </tr>\n",
       "    <tr>\n",
       "      <th>3</th>\n",
       "      <td>45</td>\n",
       "      <td>50</td>\n",
       "      <td>61</td>\n",
       "      <td>52.0</td>\n",
       "      <td>11.166667</td>\n",
       "    </tr>\n",
       "    <tr>\n",
       "      <th>4</th>\n",
       "      <td>28</td>\n",
       "      <td>38</td>\n",
       "      <td>48</td>\n",
       "      <td>38.0</td>\n",
       "      <td>16.666667</td>\n",
       "    </tr>\n",
       "    <tr>\n",
       "      <th>5</th>\n",
       "      <td>25</td>\n",
       "      <td>35</td>\n",
       "      <td>54</td>\n",
       "      <td>38.0</td>\n",
       "      <td>36.166667</td>\n",
       "    </tr>\n",
       "  </tbody>\n",
       "</table>\n",
       "</div>"
      ],
      "text/plain": [
       "   Pesimista  Mas Probable  Optimista  Valor Esperado    Varianza\n",
       "0       -141          -100        -80          -107.0  161.166667\n",
       "1         30            40         59            43.0   36.166667\n",
       "2         35            40         45            40.0    4.166667\n",
       "3         45            50         61            52.0   11.166667\n",
       "4         28            38         48            38.0   16.666667\n",
       "5         25            35         54            38.0   36.166667"
      ]
     },
     "execution_count": 100,
     "metadata": {},
     "output_type": "execute_result"
    }
   ],
   "source": [
    "dist"
   ]
  },
  {
   "cell_type": "code",
   "execution_count": 104,
   "metadata": {},
   "outputs": [],
   "source": [
    "flujos_esperados = dist['Valor Esperado'].to_numpy()\n",
    "varianzas = dist['Varianza'].to_numpy()"
   ]
  },
  {
   "cell_type": "code",
   "execution_count": 112,
   "metadata": {},
   "outputs": [
    {
     "data": {
      "text/plain": [
       "20.300668724279852"
      ]
     },
     "execution_count": 112,
     "metadata": {},
     "output_type": "execute_result"
    }
   ],
   "source": [
    "def calcular_van(flujos, tmar):\n",
    "    van = 0\n",
    "    for i,flujo in enumerate(flujos):\n",
    "        van += flujo/(1 + tmar)**i\n",
    "    return van\n",
    "\n",
    "calcular_van(flujos_esperados, tmar)\n",
    "        \n"
   ]
  },
  {
   "cell_type": "code",
   "execution_count": 113,
   "metadata": {},
   "outputs": [
    {
     "data": {
      "text/plain": [
       "14.203828424441058"
      ]
     },
     "execution_count": 113,
     "metadata": {},
     "output_type": "execute_result"
    }
   ],
   "source": [
    "def calcular_desv(varianzas):\n",
    "    var = 0\n",
    "    for i,varianza in enumerate(varianzas):\n",
    "        var += varianza/(1+tmar)**(2*i)\n",
    "    return var**0.5\n",
    "calcular_desv(varianzas)"
   ]
  },
  {
   "cell_type": "markdown",
   "metadata": {},
   "source": [
    "# Distribucion Normal"
   ]
  },
  {
   "cell_type": "code",
   "execution_count": 117,
   "metadata": {},
   "outputs": [
    {
     "name": "stdout",
     "output_type": "stream",
     "text": [
      "Con Z :  0.26044606884680266\n",
      "Probabildad VAN <  24 :  60.274014455567126\n",
      "Probabildad VAN >  24 :  39.725985544432874\n"
     ]
    }
   ],
   "source": [
    "# Cuando los flujos se comportan con distribucion Normal\n",
    "# Solo se necesita el Vanesperado y la desviacion total del proyecto\n",
    "import scipy.stats\n",
    "X = 24\n",
    "MU =  calcular_van(flujos_esperados, tmar)# VAN esperado\n",
    "STD = calcular_desv(varianzas) # Desv Total\n",
    "\n",
    "print(\"Con Z : \", (X-MU)/STD)\n",
    "print(\"Probabildad VAN < \",X,\": \", scipy.stats.norm(MU, STD).cdf(X)*100)\n",
    "print(\"Probabildad VAN > \",X,\": \", (1 - scipy.stats.norm(MU, STD).cdf(X))*100)\n"
   ]
  },
  {
   "cell_type": "code",
   "execution_count": null,
   "metadata": {},
   "outputs": [],
   "source": []
  }
 ],
 "metadata": {
  "kernelspec": {
   "display_name": "Python 3",
   "language": "python",
   "name": "python3"
  },
  "language_info": {
   "codemirror_mode": {
    "name": "ipython",
    "version": 3
   },
   "file_extension": ".py",
   "mimetype": "text/x-python",
   "name": "python",
   "nbconvert_exporter": "python",
   "pygments_lexer": "ipython3",
   "version": "3.7.4"
  }
 },
 "nbformat": 4,
 "nbformat_minor": 2
}
