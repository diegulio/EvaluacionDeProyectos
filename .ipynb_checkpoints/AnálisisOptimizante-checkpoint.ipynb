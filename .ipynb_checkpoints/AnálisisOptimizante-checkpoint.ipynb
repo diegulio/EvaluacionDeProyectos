{
 "cells": [
  {
   "cell_type": "markdown",
   "metadata": {},
   "source": [
    "# Momento Optimo"
   ]
  },
  {
   "cell_type": "code",
   "execution_count": 28,
   "metadata": {},
   "outputs": [],
   "source": [
    "def van(flujos,i):\n",
    "    van = 0\n",
    "    for indice,flujo in enumerate(flujos):\n",
    "        van += flujo/(1+i)**(indice)\n",
    "    return van\n",
    "### Opciones de momentos tupla (año, flujos)\n",
    "op_0 = (0,[-6000,6000,4000,4000])\n",
    "op_1 = (1,[-7000,7000,5000,5000])\n",
    "op_2 = (2,[-8000,8000,8000,7000])\n",
    "op_3 = (3,[-9000,8000,5000,3000])\n",
    "### opciones\n",
    "opciones = [op_0, op_1, op_2, op_3]\n",
    "\n",
    "def momento_optimo(opciones, i):\n",
    "    candidato = opciones[0]\n",
    "    for j in range(1, len(opciones)):\n",
    "        momento_candidato = candidato[0]\n",
    "        flujos_candidato = candidato[1]\n",
    "        momento_rival = opciones[j][0]\n",
    "        flujos_rival = opciones[j][1]\n",
    "        dif_momentos = (momento_rival - momento_candidato) # diferencia entre años para asi luego usarlo en la actualizacion del van del rival ya que deben compararse en el mismo año\n",
    "        print(\"Comparacion entre opcion {} con van {} v/s opcion {} con van {}\".format(momento_candidato,van(flujos_candidato,i),momento_rival,van(flujos_rival,i)/(1+i)**dif_momentos))\n",
    "        if van(flujos_rival,i)/(1+i)**dif_momentos > van(flujos_candidato,i): # si el van del rival en el año 0 del candidato es mayor al van del candidato\n",
    "            candidato = opciones[j] # entonces ahora el candidato comienza a ser el rival\n",
    "        print(\"Gana opcion {} con diferencia {}\".format(candidato[0],van(flujos_rival,i)/(1+i)**dif_momentos- van(flujos_candidato,i)))\n",
    "    return candidato\n",
    "\n",
    "    "
   ]
  },
  {
   "cell_type": "code",
   "execution_count": 29,
   "metadata": {},
   "outputs": [
    {
     "name": "stdout",
     "output_type": "stream",
     "text": [
      "Comparacion entre opcion 0 con van 5393.039358600581 v/s opcion 1 con van 6066.848773948352\n",
      "Gana opcion 1 con diferencia 673.8094153477705\n",
      "Comparacion entre opcion 1 con van 6794.870626822155 v/s opcion 2 con van 9377.562408892123\n",
      "Gana opcion 2 con diferencia 2582.691782069968\n",
      "Comparacion entre opcion 2 con van 10502.869897959179 v/s opcion 3 con van 3807.2922089754243\n",
      "Gana opcion 2 con diferencia -6695.577688983754\n"
     ]
    },
    {
     "data": {
      "text/plain": [
       "(2, [-8000, 8000, 8000, 7000])"
      ]
     },
     "execution_count": 29,
     "metadata": {},
     "output_type": "execute_result"
    }
   ],
   "source": [
    "i = 12/100\n",
    "momento_optimo(opciones,i)"
   ]
  },
  {
   "cell_type": "markdown",
   "metadata": {},
   "source": [
    "# Inversion Optima"
   ]
  },
  {
   "cell_type": "code",
   "execution_count": 33,
   "metadata": {},
   "outputs": [],
   "source": [
    "op1 = [-45000,45000,30000,30000]\n",
    "op2 = [-55000,30000,70000,40000]\n",
    "op3 = [-65000,70000,50000,50000]\n",
    "op4 = [-75000,50000,80000,40000]\n",
    "opciones_inversion = [op1,op2,op3,op4]\n",
    "def inversion_optima(opciones_inversion,i):\n",
    "    candidato = opciones_inversion[0]\n",
    "    for j in range(1,len(opciones_inversion)):\n",
    "        van_candidato = van(candidato,i)\n",
    "        van_rival = van(opciones_inversion[j],i)\n",
    "        print(\"Comparacion entre opcion {} con van {} v/s opcion {} con van {}\".format(opciones_inversion.index(candidato),van_candidato,j,van_rival))\n",
    "        if van_rival > van_candidato:\n",
    "            candidato = opciones_inversion[j]\n",
    "        print(\"Gana opcion {} con diferencia {}\".format(opciones_inversion.index(candidato),van_rival-van_candidato))\n",
    "    return candidato\n",
    "              \n",
    "            \n",
    "            "
   ]
  },
  {
   "cell_type": "code",
   "execution_count": 37,
   "metadata": {},
   "outputs": [
    {
     "name": "stdout",
     "output_type": "stream",
     "text": [
      "Comparacion entre opcion 0 con van 36540.23177447193 v/s opcion 1 con van 50317.66252979371\n",
      "Gana opcion 1 con diferencia 13777.43075532178\n",
      "Comparacion entre opcion 1 con van 50317.66252979371 v/s opcion 2 con van 66552.56020383004\n",
      "Gana opcion 2 con diferencia 16234.897674036329\n",
      "Comparacion entre opcion 2 con van 66552.56020383004 v/s opcion 3 con van 55270.403550587675\n",
      "Gana opcion 2 con diferencia -11282.156653242368\n"
     ]
    },
    {
     "data": {
      "text/plain": [
       "[-65000, 70000, 50000, 50000]"
      ]
     },
     "execution_count": 37,
     "metadata": {},
     "output_type": "execute_result"
    }
   ],
   "source": [
    "i = 15/100\n",
    "inversion_optima(opciones_inversion,i)"
   ]
  },
  {
   "cell_type": "code",
   "execution_count": 36,
   "metadata": {},
   "outputs": [
    {
     "data": {
      "text/plain": [
       "[-45000, 45000, 30000, 30000]"
      ]
     },
     "execution_count": 36,
     "metadata": {},
     "output_type": "execute_result"
    }
   ],
   "source": [
    "opciones_inversion[0]"
   ]
  },
  {
   "cell_type": "code",
   "execution_count": null,
   "metadata": {},
   "outputs": [],
   "source": []
  }
 ],
 "metadata": {
  "kernelspec": {
   "display_name": "Python 3",
   "language": "python",
   "name": "python3"
  },
  "language_info": {
   "codemirror_mode": {
    "name": "ipython",
    "version": 3
   },
   "file_extension": ".py",
   "mimetype": "text/x-python",
   "name": "python",
   "nbconvert_exporter": "python",
   "pygments_lexer": "ipython3",
   "version": "3.7.4"
  }
 },
 "nbformat": 4,
 "nbformat_minor": 2
}
