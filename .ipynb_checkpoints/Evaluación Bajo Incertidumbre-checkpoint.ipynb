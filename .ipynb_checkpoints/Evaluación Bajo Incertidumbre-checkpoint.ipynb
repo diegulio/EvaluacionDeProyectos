{
 "cells": [
  {
   "cell_type": "code",
   "execution_count": 1,
   "metadata": {},
   "outputs": [],
   "source": [
    "import pandas as pd\n",
    "import numpy as np\n",
    "import matplotlib.pyplot as plt"
   ]
  },
  {
   "cell_type": "code",
   "execution_count": 17,
   "metadata": {},
   "outputs": [],
   "source": [
    "# Estrategias\n",
    "est = ['M1', 'M2', 'M3']\n",
    "\n",
    "# Estados de la naturaleza\n",
    "N = [4000, 3800, 3000]\n",
    "L = [6000, 6400, 7000]\n",
    "# No cambiar el nomobre N y L para que se pueda hacer bien la seccion 'Rectas', lo demas es independiente\n",
    "\n",
    "n_estados = 2\n",
    "estados = [N, L]\n",
    "\n",
    "# Alpha para Hurwicz\n",
    "alpha = 1"
   ]
  },
  {
   "cell_type": "code",
   "execution_count": 18,
   "metadata": {},
   "outputs": [
    {
     "name": "stdout",
     "output_type": "stream",
     "text": [
      "Matriz Utilidad\n"
     ]
    },
    {
     "data": {
      "text/html": [
       "<div>\n",
       "<style scoped>\n",
       "    .dataframe tbody tr th:only-of-type {\n",
       "        vertical-align: middle;\n",
       "    }\n",
       "\n",
       "    .dataframe tbody tr th {\n",
       "        vertical-align: top;\n",
       "    }\n",
       "\n",
       "    .dataframe thead th {\n",
       "        text-align: right;\n",
       "    }\n",
       "</style>\n",
       "<table border=\"1\" class=\"dataframe\">\n",
       "  <thead>\n",
       "    <tr style=\"text-align: right;\">\n",
       "      <th></th>\n",
       "      <th>N</th>\n",
       "      <th>L</th>\n",
       "    </tr>\n",
       "  </thead>\n",
       "  <tbody>\n",
       "    <tr>\n",
       "      <th>M1</th>\n",
       "      <td>4000</td>\n",
       "      <td>6000</td>\n",
       "    </tr>\n",
       "    <tr>\n",
       "      <th>M2</th>\n",
       "      <td>3800</td>\n",
       "      <td>6400</td>\n",
       "    </tr>\n",
       "    <tr>\n",
       "      <th>M3</th>\n",
       "      <td>3000</td>\n",
       "      <td>7000</td>\n",
       "    </tr>\n",
       "  </tbody>\n",
       "</table>\n",
       "</div>"
      ],
      "text/plain": [
       "       N     L\n",
       "M1  4000  6000\n",
       "M2  3800  6400\n",
       "M3  3000  7000"
      ]
     },
     "execution_count": 18,
     "metadata": {},
     "output_type": "execute_result"
    }
   ],
   "source": [
    "# Se crea cuadro\n",
    "matriz_utilidad = pd.DataFrame({'N': N,\n",
    "                                'L': L}, index = est)\n",
    "print('Matriz Utilidad')\n",
    "matriz_utilidad"
   ]
  },
  {
   "cell_type": "code",
   "execution_count": 19,
   "metadata": {},
   "outputs": [
    {
     "name": "stdout",
     "output_type": "stream",
     "text": [
      "Matriz de utilidades Wald\n",
      "       N     L  Maximo\n",
      "M1  4000  6000    4000\n",
      "M2  3800  6400    3800\n",
      "M3  3000  7000    3000\n",
      "La estrategia selecionada segun Wald es M1 con un maximo de 4000\n"
     ]
    }
   ],
   "source": [
    "# Criterio de Wald: MaxMin\n",
    "wald = matriz_utilidad.copy()\n",
    "\n",
    "wald['Maximo'] = wald.min(axis = 1) #añadir demás estados de la naturaleza de ser necesario\n",
    "\n",
    "print('Matriz de utilidades Wald')\n",
    "print(wald)\n",
    "print('La estrategia selecionada segun Wald es {e} con un maximo de {m}'.format(m = np.max(wald['Maximo']),e = ( wald['Maximo'].idxmax())))\n"
   ]
  },
  {
   "cell_type": "code",
   "execution_count": 20,
   "metadata": {},
   "outputs": [
    {
     "name": "stdout",
     "output_type": "stream",
     "text": [
      "Matriz de Utilidades Hurwicz\n",
      "       N     L  Valor Esperado\n",
      "M1  4000  6000            6000\n",
      "M2  3800  6400            6400\n",
      "M3  3000  7000            7000\n",
      "La estrategia selecionada segun Hurwicz es M3 con un maximo de 7000\n"
     ]
    }
   ],
   "source": [
    "# Criterio de Hurwicz: con la probabilidad apha para el mas optimista\n",
    "Hurwicz = matriz_utilidad.copy()\n",
    "\n",
    "Hurwicz['Valor Esperado'] =  Hurwicz.min(axis = 1)*(1- alpha) +  Hurwicz.max(axis = 1)*alpha\n",
    "\n",
    "print('Matriz de Utilidades Hurwicz')\n",
    "print(Hurwicz)\n",
    "print('La estrategia selecionada segun Hurwicz es {e} con un maximo de {m}'.format(m = np.max(Hurwicz['Valor Esperado']),e = (Hurwicz['Valor Esperado'].idxmax())))"
   ]
  },
  {
   "cell_type": "code",
   "execution_count": 21,
   "metadata": {},
   "outputs": [
    {
     "name": "stdout",
     "output_type": "stream",
     "text": [
      "Matriz de Utilidades Laplace\n",
      "       N     L  Valor Esperado\n",
      "M1  4000  6000          5000.0\n",
      "M2  3800  6400          5100.0\n",
      "M3  3000  7000          5000.0\n",
      "La estrategia selecionada segun Laplace es M2 con un maximo de 5100.0\n"
     ]
    }
   ],
   "source": [
    "# Criterio  Laplace: estados equiprobables\n",
    "laplace = matriz_utilidad.copy()\n",
    "\n",
    "laplace['Valor Esperado'] = laplace.mean(axis = 1)\n",
    "print('Matriz de Utilidades Laplace')\n",
    "print(laplace)\n",
    "print('La estrategia selecionada segun Laplace es {e} con un maximo de {m}'.format(m = np.max(laplace['Valor Esperado']),e = (laplace['Valor Esperado'].idxmax())))"
   ]
  },
  {
   "cell_type": "code",
   "execution_count": 22,
   "metadata": {},
   "outputs": [
    {
     "name": "stdout",
     "output_type": "stream",
     "text": [
      "Matriz de Utilidades Savage\n",
      "       N     L  Minimo\n",
      "M1     0 -1000   -1000\n",
      "M2  -200  -600    -600\n",
      "M3 -1000     0   -1000\n",
      "La estrategia selecionada segun Savage es M2 con un maximo de -600\n"
     ]
    }
   ],
   "source": [
    "# Criterio Savage : Min Arrepentimiento\n",
    "savage = matriz_utilidad.copy()\n",
    "\n",
    "maximos_estrategia = savage.max(axis = 0)\n",
    "savage = savage - maximos_estrategia\n",
    "savage['Minimo'] = savage.min(axis = 1)\n",
    "\n",
    "print('Matriz de Utilidades Savage')\n",
    "print(savage)\n",
    "print('La estrategia selecionada segun Savage es {e} con un maximo de {m}'.format(m = np.max(savage['Minimo']),e = (savage['Minimo'].idxmax())))\n"
   ]
  },
  {
   "cell_type": "markdown",
   "metadata": {},
   "source": [
    "## Rectas"
   ]
  },
  {
   "cell_type": "code",
   "execution_count": 23,
   "metadata": {},
   "outputs": [],
   "source": [
    "p_ = np.linspace(0,1,1000)"
   ]
  },
  {
   "cell_type": "code",
   "execution_count": 24,
   "metadata": {},
   "outputs": [
    {
     "data": {
      "image/png": "[encoded data removed]",
      "text/plain": [
       "<Figure size 432x288 with 1 Axes>"
      ]
     },
     "metadata": {
      "needs_background": "light"
     },
     "output_type": "display_data"
    }
   ],
   "source": [
    "from sympy.solvers import solve \n",
    "from sympy import Symbol\n",
    "for i,estrategia in enumerate(est):\n",
    "    y = np.array([p*N[i] + (1-p)*L[i] for p in p_])\n",
    "    plt.plot(p_, y, label = estrategia)\n",
    "plt.ylim(4000,6000)\n",
    "plt.legend()\n",
    "plt.show()\n",
    "    \n",
    "    \n",
    "    "
   ]
  },
  {
   "cell_type": "code",
   "execution_count": 25,
   "metadata": {},
   "outputs": [
    {
     "name": "stdout",
     "output_type": "stream",
     "text": [
      "La interseccion entre M1 y M2 es 0.6666666666666666 con Utilidad = 4666.666666666667\n",
      "La interseccion entre M1 y M3 es 0.5 con Utilidad = 5000.0\n",
      "La interseccion entre M2 y M3 es 0.42857142857142855 con Utilidad = 5285.714285714285\n"
     ]
    }
   ],
   "source": [
    "from sympy.solvers import solve \n",
    "from sympy import Symbol\n",
    "intersecciones = []\n",
    "def interseccion(est1, est2, matriz_u):\n",
    "    p = Symbol('p')\n",
    "    interseccion = float(solve(matriz_utilidad.loc[est1,'N']*p + (1-p)*matriz_utilidad.loc[est1,'L'] - (matriz_utilidad.loc[est2,'N']*p + (1-p)*matriz_utilidad.loc[est2,'L']), p)[0])\n",
    "    ut = matriz_utilidad.loc[est1,'N']*interseccion + (1-interseccion)*matriz_utilidad.loc[est1,'L'] \n",
    "    intersecciones.append(interseccion)\n",
    "    print(\"La interseccion entre {} y {} es {} con Utilidad = {}\".format(est1, est2, interseccion, ut))\n",
    "    \n",
    "interseccion('M1', 'M2', matriz_utilidad) \n",
    "interseccion('M1', 'M3', matriz_utilidad) \n",
    "interseccion('M2', 'M3', matriz_utilidad) \n"
   ]
  },
  {
   "cell_type": "markdown",
   "metadata": {},
   "source": [
    "Tabla de Dominancia"
   ]
  },
  {
   "cell_type": "code",
   "execution_count": 26,
   "metadata": {},
   "outputs": [],
   "source": [
    "intersecciones\n",
    "intersecciones.sort() # Ordeno de menor a mayor"
   ]
  },
  {
   "cell_type": "code",
   "execution_count": 27,
   "metadata": {},
   "outputs": [],
   "source": [
    "tabla_dominancia = pd.DataFrame()"
   ]
  },
  {
   "cell_type": "code",
   "execution_count": 28,
   "metadata": {},
   "outputs": [
    {
     "name": "stdout",
     "output_type": "stream",
     "text": [
      "Interseccion 0 - 0.42857142857142855\n",
      "[('M1', 5571.428571428571), ('M2', 5842.857142857143), ('M3', 6142.857142857143)] \n",
      "\n",
      "Interseccion 0.42857142857142855 - 0.5\n",
      "[('M1', 5071.428571428572), ('M2', 5192.857142857143), ('M3', 5142.857142857143)] \n",
      "\n",
      "Interseccion 0.5 - 0.6666666666666666\n",
      "[('M1', 4833.333333333334), ('M2', 4883.333333333334), ('M3', 4666.666666666667)] \n",
      "\n",
      "Interseccion 0.6666666666666666 - 1\n",
      "[('M1', 4333.333333333334), ('M2', 4233.333333333334), ('M3', 3666.666666666667)] \n",
      "\n"
     ]
    }
   ],
   "source": [
    "for i,inter in enumerate(intersecciones):\n",
    "    if i == 0:\n",
    "        n_comp = inter/2\n",
    "        #print(n_comp)\n",
    "        temp_val = []\n",
    "        for estrategia in est:\n",
    "            temp_val.append((estrategia, matriz_utilidad.loc[estrategia,'N']*n_comp + (1-n_comp)*matriz_utilidad.loc[estrategia,'L']))\n",
    "        print('Interseccion {} - {}'.format(0,inter))\n",
    "        print(temp_val,\"\\n\")\n",
    "    elif i == len(intersecciones)-1:\n",
    "        n_comp = (inter + intersecciones[i-1])/2\n",
    "        #print(n_comp)\n",
    "        temp_val = []\n",
    "        for estrategia in est:\n",
    "            temp_val.append((estrategia, matriz_utilidad.loc[estrategia,'N']*n_comp + (1-n_comp)*matriz_utilidad.loc[estrategia,'L']))\n",
    "        print('Interseccion {} - {}'.format(intersecciones[i-1],inter))\n",
    "        print(temp_val,\"\\n\")\n",
    "            \n",
    "        n_comp = (1+inter)/2\n",
    "        #print(n_comp)\n",
    "        temp_val = []\n",
    "        for estrategia in est:\n",
    "            temp_val.append((estrategia, matriz_utilidad.loc[estrategia,'N']*n_comp + (1-n_comp)*matriz_utilidad.loc[estrategia,'L']))\n",
    "        print('Interseccion {} - {}'.format(inter,1))\n",
    "        print(temp_val,\"\\n\")\n",
    "\n",
    "    else:\n",
    "        n_comp = (inter + intersecciones[i-1])/2\n",
    "        #print(n_comp)\n",
    "        temp_val = []\n",
    "        for estrategia in est:\n",
    "            temp_val.append((estrategia, matriz_utilidad.loc[estrategia,'N']*n_comp + (1-n_comp)*matriz_utilidad.loc[estrategia,'L']))\n",
    "        print('Interseccion {} - {}'.format(intersecciones[i-1],inter))\n",
    "        print(temp_val,\"\\n\")\n",
    "        \n",
    "    \n",
    "    \n",
    "        \n",
    "            \n",
    "        \n",
    "    "
   ]
  },
  {
   "cell_type": "code",
   "execution_count": null,
   "metadata": {},
   "outputs": [],
   "source": []
  },
  {
   "cell_type": "code",
   "execution_count": null,
   "metadata": {},
   "outputs": [],
   "source": []
  }
 ],
 "metadata": {
  "kernelspec": {
   "display_name": "Python 3",
   "language": "python",
   "name": "python3"
  },
  "language_info": {
   "codemirror_mode": {
    "name": "ipython",
    "version": 3
   },
   "file_extension": ".py",
   "mimetype": "text/x-python",
   "name": "python",
   "nbconvert_exporter": "python",
   "pygments_lexer": "ipython3",
   "version": "3.7.4"
  }
 },
 "nbformat": 4,
 "nbformat_minor": 2
}
